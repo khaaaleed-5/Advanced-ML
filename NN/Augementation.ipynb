{
 "cells": [
  {
   "cell_type": "code",
   "execution_count": null,
   "metadata": {},
   "outputs": [],
   "source": [
    "import cv2\n",
    "from keras.preprocessing.image import ImageDataGenerator\n",
    "import os\n",
    "import numpy as np"
   ]
  },
  {
   "cell_type": "code",
   "execution_count": 3,
   "metadata": {},
   "outputs": [],
   "source": [
    "datagen = ImageDataGenerator(\n",
    "    rotation_range=45,   # rotate image with 45 degree\n",
    "    width_shift_range=0.2,   # move image on x-axis\n",
    "    height_shift_range=0.2,  # move image on y-axis\n",
    "    shear_range=0.2,         #distortions\n",
    "    zoom_range=0.2,          #zoom\n",
    "    horizontal_flip=True,    #flip image on x-axis\n",
    "    fill_mode='reflect' #fill pixels droped out by reflecting pixels  (constant,reflect,nearest)\n",
    ")"
   ]
  },
  {
   "cell_type": "code",
   "execution_count": 4,
   "metadata": {},
   "outputs": [],
   "source": [
    "def generate_img(img_path,save_dir):\n",
    "    img = cv2.imread(img_path)          # reading image using open-cv\n",
    "    img = cv2.cvtColor(img,cv2.COLOR_BGR2RGB)  # due to reading of open-cv as BGR, convert it into RGB\n",
    "    img = img.reshape((1,) + img.shape)        # reshapeing the image to become (1,image_width,image_height,3)\n",
    "    \n",
    "    i = 0\n",
    "    for batch in datagen.flow(\n",
    "            img, \n",
    "            batch_size=1,         #take 1 image at a time\n",
    "            save_to_dir=save_dir, #save to that dir\n",
    "            save_prefix='aug',    #name of image\n",
    "            save_format='jpg'):   #extension \n",
    "        i += 1\n",
    "        if i >= 5:  # Generate 5 augmented images per original image\n",
    "            break"
   ]
  },
  {
   "cell_type": "code",
   "execution_count": null,
   "metadata": {},
   "outputs": [],
   "source": [
    "# Augmentation of fresh photos\n",
    "from_dir_fresh = '../Datasets/rotten or not Dataset/fresh'\n",
    "save_dir_fresh = '../Datasets/rotten or not Dataset/fresh_aug'\n",
    "\n",
    "for fresh in os.listdir(from_dir_fresh):\n",
    "    img_path = os.path.join(from_dir_fresh,fresh)\n",
    "    generate_img(img_path,save_dir_fresh)"
   ]
  },
  {
   "cell_type": "code",
   "execution_count": null,
   "metadata": {},
   "outputs": [],
   "source": [
    "# Augmentation of rotten photos\n",
    "from_dir_rotten = '../Datasets/rotten or not Dataset/rotten'\n",
    "save_dir_rotten = '../Datasets/rotten or not Dataset/rotten_aug'\n",
    "\n",
    "for rotten in os.listdir(from_dir_rotten):\n",
    "    img_path = os.path.join(from_dir_rotten,rotten)\n",
    "    generate_img(img_path,save_dir_rotten)"
   ]
  }
 ],
 "metadata": {
  "kernelspec": {
   "display_name": "base",
   "language": "python",
   "name": "python3"
  },
  "language_info": {
   "codemirror_mode": {
    "name": "ipython",
    "version": 3
   },
   "file_extension": ".py",
   "mimetype": "text/x-python",
   "name": "python",
   "nbconvert_exporter": "python",
   "pygments_lexer": "ipython3",
   "version": "3.11.5"
  }
 },
 "nbformat": 4,
 "nbformat_minor": 2
}
